{
 "cells": [
  {
   "cell_type": "markdown",
   "metadata": {},
   "source": [
    "# solvekdv: a tutorial\n",
    "Connor Duffin *The University of Western Australia*"
   ]
  },
  {
   "cell_type": "markdown",
   "metadata": {},
   "source": [
    "This document covers the essentials behind the solvekdv package that I have written. The package's core functionality is\n",
    "to use an implicit-explicit finite difference solver to solve the Korteweg-de Vries (K-dV) equation. It is linked to the oceanographic situations in which K-dV arises, but this functionality is only added in to compute the parameters. As such, for those who just want a basic K-dV solver, it can function in the fashion."
   ]
  },
  {
   "cell_type": "markdown",
   "metadata": {},
   "source": [
    "### The K-dV equation and its coefficients\n",
    "\n",
    "To model internal waves in the ocean, the Korteweg-de Vries equation can be \n",
    "derived out of the Boussinesq approximation. This derivation is not the purpose\n",
    "of the present document. The K-dV equation for the wave profile, $A$, is given by:\n",
    "\n",
    "\\begin{equation}\n",
    "   A_t + c A_x + \\alpha A A_x + \\beta A_{xxx} - \\frac{c}{Q} \\frac{\\mathrm d Q}{\\mathrm d x} A = 0,\n",
    "\\end{equation}\n",
    "\n",
    "where $c$, $\\alpha$, $\\beta$, $Q$ are all determined from the eigenvalue problem:\n",
    "\n",
    "\\begin{equation}\n",
    "  \\phi''(x) + \\frac{N^2(z)}{c^2} = 0,\n",
    "\\end{equation}\n",
    "\n",
    "where $\\phi(0) = \\phi(H) = 0$, $\\max(\\phi) = 1$. The coefficients are given by:\n",
    "\n",
    "\\begin{align}\n",
    "  \\alpha &= \\frac{3c}{2} \\frac{\\int \\mathrm (\\phi'(z))^3d z}\n",
    "  {\\int (\\phi'(z))^2 \\mathrm d z}, \\\\\n",
    "  \\beta &= \\frac{c}{2} \\frac{\\int \\phi(z)^2 \\mathrm d z}\n",
    "  {\\int (\\phi'(z))^2 \\mathrm d z}, \\\\\n",
    "  Q &= \\sqrt{\\frac{c_0^3}{c^3} \\frac{\\int (\\phi_0'(z))^2 \\mathrm d z}\n",
    "  {\\int (\\phi'(z))^2 \\mathrm d z}}.\n",
    "\\end{align}\n",
    "\n",
    "where $\\phi_0$ is taken at some reference point (usually $x = 0$)."
   ]
  },
  {
   "cell_type": "markdown",
   "metadata": {},
   "source": [
    "#### Solving the eigenvalue problem\n",
    "\n",
    "Before we solve the K-dV equation, we need to first solve the eigenvalue \n",
    "equation. To do so we will use a finite difference scheme, accurate to\n",
    "second order. Approximate the second derivative with a grid of points to \n",
    "give:\n",
    "\n",
    "\\begin{equation}\n",
    "  \\phi''(x)\n",
    "  \\approx \\frac{\\phi_{i + 1} - 2 \\phi_{i} + \\phi_{i - 1}}{(\\Delta z)^2} = \n",
    "  \\frac{-N_i^2}{c^2} \\phi_i,\n",
    "\\end{equation}\n",
    "\n",
    "where $\\phi_i \\approx \\phi(i \\Delta z)$, a grid point that serves to approximate\n",
    "$\\phi$ at the point $i \\Delta z$. This problem forms an eigenvalue problem of \n",
    "the form:\n",
    "\n",
    "\\begin{equation}\n",
    "  \\mathbf A \\boldsymbol{\\phi} = \\frac{1}{c^2} \\mathbf n^\\top \\boldsymbol{\\phi}\n",
    "  \\equiv\n",
    "  \\mathbf A \\boldsymbol{\\phi} = \\lambda \\mathbf n^\\top \\boldsymbol{\\phi}.\n",
    "\\end{equation}\n",
    "\n",
    "where $\\mathbf A$ is a tridiagonal matrix  with $-1 / (\\Delta x)^2$ on the two\n",
    "off-diagonals and $2/(\\Delta x)^2$ on the centre diagonal, $\\boldsymbol \\phi =\n",
    "(\\phi_1, \\ldots, \\phi_M)$, $\\mathbf n = (N_1^2, \\ldots, N_M^2)$ for our $M$\n",
    "discretization points. This is a scaled matrix eigenvalue problem for the $M$\n",
    "eigenvectors (which approximate the eigenfunctions), and the $M$ eigenvalues.\n",
    "\n",
    "There are infinitely many eigenfunctions. We choose the eigenfunction according\n",
    "to the lowest eigenvalue $\\lambda_1$ such that\n",
    "$\\lambda_1 < \\lambda_2 < \\cdots$. If our eigenvalue is $\\lambda$, then we have\n",
    "$\\lambda = 1 / c^2$ and then $c = \\sqrt{1/\\lambda}$.\n",
    "\n",
    "The eigenfunction returned is not unique. It is known only to a normalising\n",
    "constant. To combat this, we scale the eigenfunctions such that $\\max \\phi = 1$.\n",
    "\n",
    "In practice, we use `scipy.linalg.eigh` to solve the system. It was initially\n",
    "written to use the `scipy.sparse.eigs`, but this was actually *slower* than\n",
    "just using `scipy.linalg.eigh`. As our matrices are not too big, in this case\n",
    "($\\sim 1000 \\times 1000$), I decided to just use the faster one. To approximate\n",
    "the derivatives we use the `numpy.gradient` function, and to approximate the\n",
    "area under the curves, we use the `numpy.trapz` function.\n"
   ]
  },
  {
   "cell_type": "markdown",
   "metadata": {},
   "source": [
    "#### IMEX routine to solve the K-dV\n",
    "\n",
    "Now that we have these coefficients, we can run our K-dV model. Remember that K-dV equation is of the form:\n",
    "\n",
    "\\begin{equation}\n",
    "  A_t + c A_x + \\alpha A A_x + \\beta A_{xxx}\n",
    "  - \\frac{c}{Q} \\frac{\\mathrm d Q}{\\mathrm d x} A = 0.\n",
    "\\end{equation}\n",
    "\n",
    "Following [Durran and Blossey](https://journals.ametsoc.org/doi/pdf/10.1175/MWR-D-11-00088.1)\n",
    "we will represent the above PDE in terms of some linear operator $\\mathcal L$, and\n",
    "some nonlinear $f$. That, is, write:\n",
    "\n",
    "\\begin{equation}\n",
    "  A_t = \\mathcal L(A) + f(A).\n",
    "\\end{equation}\n",
    "\n",
    "where $\\mathcal L$ and $f$ are given by:\n",
    "\n",
    "\\begin{align}\n",
    "  \\mathcal L &= -c \\partial_x - \\beta \\partial_{xxx} + \\frac{c}{Q} \\frac{\\mathrm d Q}{\\mathrm d x} \\\\\n",
    "  f(A) &= -\\alpha A \\partial_{x} A.\n",
    "\\end{align}\n",
    "\n",
    "We will use what Durran and Blossey call the AM2-AX2 scheme. Let $A^{n}$ represent\n",
    "our finite approximation to $A$ at point $n$. Then the AM2-AX2 scheme is given \n",
    "by:\n",
    "\n",
    "\\begin{equation}\n",
    "  \\frac{A^{n + 1} - A^n}{\\Delta t} \n",
    "  = \\frac{7}{4} f(A^n) - f(A^{n - 1}) + \\frac{1}{4} f(A^{n - 2})\n",
    "  + \\frac{3}{4} \\mathcal L A^{n + 1} - \\frac{1}{4} \\mathcal L A^{n - 1}\n",
    "\\end{equation}\n",
    "\n",
    "Notice that the nonlinear terms only go *backwards* in term and the linear terms\n",
    "go forward, and backward, in time. This makes the nonlinear terms explicit, and\n",
    "the linear terms are implicit. This gives:\n",
    "\n",
    "\\begin{align}\n",
    "  A^{n + 1} - A^n\n",
    "  = - &\\frac{7 \\Delta t}{4} \\alpha A^n A^n_x\n",
    "  + \\Delta t \\alpha A^{n - 1} A^{n - 1}_x\n",
    "  - \\frac{\\Delta t}{4} \\alpha A^{n - 2} A^{n - 2}_x \\\\\n",
    "  &+ \\frac{3 \\Delta t}{4} \\left(-c A^{n + 1}_x - \\beta A^{n + 1}_{xxx}\n",
    "    + \\frac{c}{Q} \\frac{\\mathrm d Q}{\\mathrm d x} A^{n + 1}\\right)\n",
    "  - \\frac{\\Delta t}{4} \\left(-c A^{n - 1}_x - \\beta A^{n - 1}_{xxx}\n",
    "    + \\frac{c}{Q} \\frac{\\mathrm d Q}{\\mathrm d x} A^{n - 1}\\right)\n",
    "\\end{align}\n",
    "\n",
    "The only simplification I am going to do is put all of the terms involving the\n",
    "$n + 1$ to the LHS, and all others to the RHS:\n",
    "\n",
    "\\begin{multline}\n",
    "  A^{n + 1}\n",
    "  + \\frac{3 \\Delta t}{4} \\left(c A^{n + 1}_x + \\beta A^{n + 1}_{xxx}\n",
    "    - \\frac{c}{Q} \\frac{\\mathrm d Q}{\\mathrm d x} A^{n + 1}\\right) \\\\\n",
    "  = A^n - \\frac{7 \\Delta t}{4} \\alpha A^n A^n_x\n",
    "  + \\Delta t \\alpha A^{n - 1} A^{n - 1}_x\n",
    "  - \\frac{\\Delta t}{4} \\alpha A^{n - 2} A^{n - 2}_x\n",
    "  + \\frac{\\Delta t}{4} \\left(c A^{n - 1}_x + \\beta A^{n - 1}_{xxx}\n",
    "    - \\frac{c}{Q} \\frac{\\mathrm d Q}{\\mathrm d x} A^{n - 1}\\right)\n",
    "\\end{multline}\n",
    "\n",
    "Indeed, this looks messy. Replace all partial spatial derivatives with\n",
    "their centered finite difference equivalents. The $\\mathrm d Q / \\mathrm d x$\n",
    "term is known beforehand and is a constant.  In `solvekdv` we represent both\n",
    "sides of this equation as matrices, to give an evolution equation of the form:\n",
    "\n",
    "\\begin{equation}\n",
    "  \\mathbf D \\mathbf a^n = \\mathbf b,\n",
    "\\end{equation}\n",
    "\n",
    "where $\\mathbf D$ is a matrix to represent the linear differential operators on\n",
    "the RHS, $\\mathbf a^n$ is the vector of approximating points of $A$, at time\n",
    "point $n$, and $\\mathbf b$ is a vector computed from the terms on the LHS\n",
    "(which are all known)."
   ]
  },
  {
   "cell_type": "markdown",
   "metadata": {},
   "source": [
    "### Using the package\n",
    "This is a small example to show how to use `solvekdv` for non-varying\n",
    "bathymetry (i.e. a flat ocean floor). First, load the package:"
   ]
  },
  {
   "cell_type": "code",
   "execution_count": 1,
   "metadata": {},
   "outputs": [
    {
     "ename": "ImportError",
     "evalue": "cannot import name 'solvekdv' from '__main__' (unknown location)",
     "output_type": "error",
     "traceback": [
      "\u001b[0;31m---------------------------------------------------------------------------\u001b[0m",
      "\u001b[0;31mImportError\u001b[0m                               Traceback (most recent call last)",
      "\u001b[0;32m<ipython-input-1-0206030e6d3a>\u001b[0m in \u001b[0;36m<module>\u001b[0;34m\u001b[0m\n\u001b[1;32m      3\u001b[0m \u001b[0;32mimport\u001b[0m \u001b[0mmatplotlib\u001b[0m\u001b[0;34m.\u001b[0m\u001b[0mpyplot\u001b[0m \u001b[0;32mas\u001b[0m \u001b[0mplt\u001b[0m\u001b[0;34m\u001b[0m\u001b[0;34m\u001b[0m\u001b[0m\n\u001b[1;32m      4\u001b[0m \u001b[0;34m\u001b[0m\u001b[0m\n\u001b[0;32m----> 5\u001b[0;31m \u001b[0;32mfrom\u001b[0m \u001b[0;34m.\u001b[0m \u001b[0;32mimport\u001b[0m \u001b[0msolvekdv\u001b[0m\u001b[0;34m\u001b[0m\u001b[0;34m\u001b[0m\u001b[0m\n\u001b[0m",
      "\u001b[0;31mImportError\u001b[0m: cannot import name 'solvekdv' from '__main__' (unknown location)"
     ]
    }
   ],
   "source": [
    "import numpy as np\n",
    "import matplotlib.animation as animation\n",
    "import matplotlib.pyplot as plt\n",
    "\n",
    "from . import solvekdv"
   ]
  },
  {
   "cell_type": "markdown",
   "metadata": {},
   "source": [
    " Set the depth to $300$ m, and the base density $\\rho_0 = 1000 \\, \\mathrm{kg} \\, \\mathrm{m}^{-3}$. Then set up the vertical mode problem and so"
   ]
  },
  {
   "cell_type": "code",
   "execution_count": 40,
   "metadata": {},
   "outputs": [
    {
     "name": "stdout",
     "output_type": "stream",
     "text": [
      "r10: -0.0166\n",
      "r01: 2920.6500\n",
      "c:   0.8427\n",
      "\n"
     ]
    }
   ],
   "source": [
    "vertical = vert.VerticalMode(dz=0.1, start_z=0, end_z=300, rho_0=1000)\n",
    "vertical.compute_density(\"lamb-yan-1\")\n",
    "\n",
    "vertical.find_vertical_mode()\n",
    "\n",
    "vertical.compute_r10()\n",
    "vertical.compute_r01()\n",
    "\n",
    "print(\n",
    "    f\"r10: {vertical.r10:.4f}\\n\"\n",
    "    + f\"r01: {vertical.r01:.4f}\\n\"\n",
    "    + f\"c:   {vertical.c:.4f}\\n\"\n",
    ")"
   ]
  },
  {
   "cell_type": "markdown",
   "metadata": {},
   "source": [
    "Initialize the `kdv` class on our domain of interest ($(-150, 150)$ km, $24$ hours). Set the initial conditions to the same as those in Lamb & Yan (1996), and set the `kdv` equation parameters."
   ]
  },
  {
   "cell_type": "code",
   "execution_count": 41,
   "metadata": {
    "scrolled": true
   },
   "outputs": [],
   "source": [
    "test = kdv.Kdv(\n",
    "    dt=10, dx=50, start_x=-150000, end_x=150000, start_t=0, end_t=24 * 60**2\n",
    ")\n",
    "\n",
    "test.set_initial_condition(\n",
    "    - 20 * (1/4) * (1 + np.tanh((test.x_grid + 20000) / 2000))\n",
    "    * (1 - np.tanh(test.x_grid / 2000))\n",
    ")\n",
    "\n",
    "test.set_kdv_parameters(\n",
    "    a=2 * vertical.r10 * vertical.c,\n",
    "    b=vertical.r01,\n",
    "    c=vertical.c\n",
    ")\n",
    "\n",
    "test.set_first_order_matrix()\n",
    "test.set_third_order_matrix()\n",
    "test.set_lhs_matrix()"
   ]
  },
  {
   "cell_type": "markdown",
   "metadata": {},
   "source": [
    "We are now ready to solve the K-dV equation. Load up an array to store all of our iterations in and run the solver:"
   ]
  },
  {
   "cell_type": "code",
   "execution_count": 42,
   "metadata": {},
   "outputs": [
    {
     "name": "stdout",
     "output_type": "stream",
     "text": [
      "Simulation 0.0 % complete.\n",
      "Simulation 10.0 % complete.\n",
      "Simulation 20.0 % complete.\n",
      "Simulation 30.0 % complete.\n",
      "Simulation 40.0 % complete.\n",
      "Simulation 50.0 % complete.\n",
      "Simulation 60.0 % complete.\n",
      "Simulation 70.0 % complete.\n",
      "Simulation 80.0 % complete.\n",
      "Simulation 90.0 % complete.\n"
     ]
    }
   ],
   "source": [
    "u = np.zeros([test.n_x, test.n_t])\n",
    "for i in range(test.n_t):\n",
    "    if (i % int(0.1 * test.n_t)) == 0:\n",
    "        print(f\"Simulation {100 * i / test.n_t:.1f} % complete.\")\n",
    "    u[:, i] = test.solve_step()\n",
    "    "
   ]
  },
  {
   "cell_type": "code",
   "execution_count": 44,
   "metadata": {},
   "outputs": [
    {
     "data": {
      "image/png": "[encoded data removed]",
      "text/plain": [
       "<Figure size 432x288 with 1 Axes>"
      ]
     },
     "metadata": {
      "needs_background": "light"
     },
     "output_type": "display_data"
    }
   ],
   "source": [
    "plt.plot(test.x_grid/1000, u[:, 3000])\n",
    "plt.xlim((-5, 40))\n",
    "plt.ylim((-45, 5))\n",
    "plt.xlabel(\"Distance (m)\")\n",
    "plt.ylabel(\"Wave profile (m)\")\n",
    "plt.show()"
   ]
  }
 ],
 "metadata": {
  "kernelspec": {
   "display_name": "Python 3",
   "language": "python",
   "name": "python3"
  },
  "language_info": {
   "codemirror_mode": {
    "name": "ipython",
    "version": 3
   },
   "file_extension": ".py",
   "mimetype": "text/x-python",
   "name": "python",
   "nbconvert_exporter": "python",
   "pygments_lexer": "ipython3",
   "version": "3.7.3"
  }
 },
 "nbformat": 4,
 "nbformat_minor": 2
}
