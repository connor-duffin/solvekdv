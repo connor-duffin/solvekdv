{
 "cells": [
  {
   "cell_type": "markdown",
   "metadata": {},
   "source": [
    "# solvekdv: Package description and basic use-cases\n",
    "Connor P. Duffin, *The University of Western Australia*"
   ]
  },
  {
   "cell_type": "markdown",
   "metadata": {},
   "source": [
    "This document covers the essentials behind the solvekdv package that I have written. The package's core functionality is\n",
    "to use an implicit-explicit finite difference solver to solve the Korteweg-de Vries (K-dV) equation. It is linked to the oceanographic situations in which K-dV arises, but this functionality is only added in to compute the parameters. As such, for those who just want a basic K-dV solver, it can function in the fashion."
   ]
  },
  {
   "cell_type": "code",
   "execution_count": null,
   "metadata": {},
   "outputs": [],
   "source": []
  }
 ],
 "metadata": {
  "kernelspec": {
   "display_name": "Python 3",
   "language": "python",
   "name": "python3"
  },
  "language_info": {
   "codemirror_mode": {
    "name": "ipython",
    "version": 3
   },
   "file_extension": ".py",
   "mimetype": "text/x-python",
   "name": "python",
   "nbconvert_exporter": "python",
   "pygments_lexer": "ipython3",
   "version": "3.7.3"
  }
 },
 "nbformat": 4,
 "nbformat_minor": 2
}
