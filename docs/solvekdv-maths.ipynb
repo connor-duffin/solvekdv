{
 "cells": [
  {
   "cell_type": "markdown",
   "metadata": {},
   "source": [
    "# `solvekdv`: maths for constant bathymetry\n",
    "Connor Duffin *The University of Western Australia*"
   ]
  },
  {
   "cell_type": "markdown",
   "metadata": {},
   "source": [
    "The following document outlines the maths behind the finite difference KdV solver implemented in the `solvekdv` package. To set the scene, we begin with the governing equations. For the wave profile, $A$, we have:\n",
    "\n",
    "\\begin{equation}\n",
    "   A_t + c A_x + \\alpha A A_x + \\beta A_{xxx} = 0.\n",
    "\\end{equation}\n",
    "\n",
    "The coefficients $c$, $\\alpha$, and $\\beta$ are all determined from the eigenvalue problem:\n",
    "\n",
    "\\begin{equation}\n",
    "  \\phi''(z) + \\frac{N^2(z)}{c^2} \\phi(z) = 0,\n",
    "\\end{equation}\n",
    "\n",
    "with boundary and normalization conditions ($z$ is taken to be from $0$ to $H$ at the ocean floor):\n",
    "\n",
    "\\begin{equation}\n",
    "  \\phi(0) = \\phi(H) = 0\n",
    "\\end{equation}\n",
    "\n",
    "\\begin{equation}\n",
    "  \\max \\phi = 1.\n",
    "\\end{equation}\n",
    "\n",
    "The Brunt-Vaisala frequency, $N^2(z)$, is\n",
    "\n",
    "\\begin{equation}\n",
    "  N^2 (z) = - \\frac{g}{\\rho_0} \\frac{\\mathrm d \\bar \\rho}{\\mathrm d z}.\n",
    "\\end{equation}\n",
    "\n",
    "These coefficients are given by:\n",
    "\n",
    "\\begin{align}\n",
    "  \\alpha &= \\frac{3c}{2} \\frac{\\int (\\phi'(z))^3 \\mathrm d z}{\\int (\\phi'(z))^2 \\mathrm d z}, \\\\\n",
    "  \\beta &= \\frac{c}{2} \\frac{\\int \\phi(z)^2\\mathrm d z}{\\int (\\phi'(z))^2 \\mathrm d z}\n",
    "\\end{align}\n",
    "\n",
    "Under the assumptions that the flow is inviscid, incompressible, and nonrotating the above equations can be derived from the [Boussinesq approximation](https://en.wikipedia.org/wiki/Boussinesq_approximation_(water_waves)). I will refer to $\\phi$ as the *vertical mode* from here on in (and in the code itself)."
   ]
  },
  {
   "cell_type": "markdown",
   "metadata": {},
   "source": [
    "## Solving the system numerically\n",
    "\n",
    "So we've got two problems to solve:\n",
    "\n",
    "  1) The vertical mode eigenvalue problem.\n",
    "  \n",
    "  2) The KdV equation.\n",
    "  \n",
    "To solve the vertical mode eigenvalue problem, `solvekdv` uses a second-order accurate finite difference approximation to the second derivative, and then uses a standard eigenvalue algorithm to determine the vertical mode eigenfunction (approximated by the resultant eigenvector). We take the solution corresponding to the lowest eigenvalue, and use this to approximate the wave speed ($c$).\n",
    "\n",
    "To solve the KdV equation we use the implicit-explicit solver of [Durran and Blossey](https://atmos.uw.edu/~durrand/pdfs/AMS/2012_Durran_Blossey_MWR.pdf). This is a finite difference scheme that is stable and fast. After computing the above coefficients it is not too difficult to implement."
   ]
  },
  {
   "cell_type": "markdown",
   "metadata": {},
   "source": [
    "### Numerically solving the vertical mode problem\n",
    "\n",
    "We begin by introducing the following, standard finite difference notation. Discretize our $z$ grid into $n$ equally spaced values: $z = 0, \\Delta z, 2 \\Delta z, 3 \\Delta z, \\ldots, (n - 2) \\Delta z, (n - 1) \\Delta z = H$. Notice that the first element is given by $0$ and the last element of the sequence is given by the depth $H$. This allows us to represent the second derivative by approximation:\n",
    "\n",
    "\\begin{equation}\n",
    "  \\phi''(z) \\approx \\frac{\\phi(z + \\Delta z) - 2 \\phi(z) + \\phi(z - \\Delta z)}{(\\Delta z)^2}\n",
    "\\end{equation}\n",
    "\n",
    "and on the grid points this gives:\n",
    "\n",
    "\\begin{equation}\n",
    "  \\phi_i '' \\approx \\frac{\\phi_{i + 1} - 2 \\phi_i + \\phi_{i - 1}}{(\\Delta z)^2}.\n",
    "\\end{equation}\n",
    "\n",
    "We can represent $\\phi$ on this grid, therefore, by the vector $(\\phi_0, \\phi_1, \\ldots, \\phi_n)$. Furthermore, as we can represent the finite difference approximation of the second derivative by the use of a *difference matrix*, the approximation to the eigenvalue problem becomes the eigenvector problem:\n",
    "\n",
    "\\begin{equation}\n",
    "  \\mathbf D \\boldsymbol \\phi = - \\lambda \\mathbf n \\otimes \\boldsymbol \\phi\n",
    "\\end{equation}\n",
    "\n",
    "Where the vector $\\mathbf n$ is a vector of Brunt-Vaisala frequencies, computed for each $z = 0, \\Delta z, \\ldots, H$. In this formulation, we can derive the wave speed $c$ as $\\lambda = 1 / c^2 \\implies c = 1 / \\sqrt{\\lambda}$ (only take the positive root).\n",
    "\n",
    "From the output of the eigendecomposition, we take the eigenvector as being an approximation to the vertical mode $\\phi$, and use the eigenvalue to compute the approximation to the wave speed $c$. We compute a numerical approximation to the gradient $\\phi'(z)$ using this eigenvector, and use a numerical quadrature scheme to get the values of $\\alpha$ and $\\beta$."
   ]
  },
  {
   "cell_type": "markdown",
   "metadata": {},
   "source": [
    "### Numerically solving the KdV equation\n",
    "\n",
    "To numerically solve the KdV equation we use an implicit-explicit (IMEX) finite difference method. IMEX methods are useful because they allow for implicitly differencing the linear parts of the PDE and explicitly differencing the nonlinear parts of the PDE. The method that we will use in this paper is the so-called AM2-AX2 of [Durran and Blossey](https://atmos.uw.edu/~durrand/pdfs/AMS/2012_Durran_Blossey_MWR.pdf). This discretisation is as follows. Suppose that we have a PDE of the form:\n",
    "\n",
    "\\begin{equation}\n",
    "  A_t = \\mathcal L A + f(A),\n",
    "\\end{equation}\n",
    "\n",
    "where $\\mathcal L$ is a linear operator, and $f(\\cdot)$ is some nonlinear operator. Let us then discretize with respect to time to give:\n",
    "\n",
    "\\begin{equation}\n",
    "  \\frac{A^{n + 1} - A^n}{\\Delta t} \n",
    "  = \\frac{7}{4} f(A^n) - f(A^{n - 1}) + \\frac{1}{4} f(A^{n - 2})\n",
    "  + \\frac{3}{4} \\mathcal L A^{n + 1} - \\frac{1}{4} \\mathcal L A^{n - 1}\n",
    "\\end{equation}\n",
    "\n",
    "which after some rearranging gives:\n",
    "\n",
    "\\begin{equation}\n",
    "  A^{n + 1} -\\frac{3 \\Delta t}{4} \\mathcal L A^{n + 1}\n",
    "  = A^n + \\frac{7 \\Delta t}{4} f(A^n) - f(A^{n - 1}) - \\frac{\\Delta t}{4} \\mathcal L A^{n - 1}\n",
    "  + \\frac{\\Delta t}{4} f(A^{n - 2}).\n",
    "\\end{equation}\n",
    "\n",
    "For the KdV equation, we can write it in an equivalent form to give:\n",
    "\n",
    "\\begin{equation}\n",
    "  A_t = - c A_x - \\beta A_{xxx} - \\alpha A A_x\n",
    "\\end{equation}\n",
    "\n",
    "and so our IMEX equivalent form is:\n",
    "\n",
    "\\begin{equation}\n",
    "  A^{n + 1} \n",
    "  + \\frac{3 \\Delta t}{4} \\mathcal (c A_x^{n + 1} + \\beta A_{xxx}^{n + 1})\n",
    "  = A^n - \\frac{7 \\Delta t}{4} \\alpha A^n A_x^n + \\alpha A^{n - 1} A_x^{n - 1}\n",
    "  + \\frac{\\Delta t}{4} \\mathcal (c A_x^{n - 1} + \\beta A_{xxx}^{n - 1})\n",
    "  - \\frac{\\Delta t}{4} \\alpha A^{n - 2} A_x^{n - 2}\n",
    "\\end{equation}\n",
    "\n",
    "Represent all derivatives as their finite difference equivalents and, after some calculation, we arrive at the matrix equation for the update:\n",
    "\n",
    "\\begin{equation}\n",
    "  \\mathbf L \\mathbf a^{n + 1} = \\mathbf r,\n",
    "\\end{equation}\n",
    "\n",
    "where $\\mathbf L$ is the matrix version of the LHS, $\\mathbf a$ is the approximation to the KdV solution, and $\\mathbf r$ is the vector computed from the RHS. In each iteration this involves solving this large system of equations ($\\mathcal O(10^3)$), which is efficiently done through the use of the `spsolve` (sparse-solve) function in Python."
   ]
  },
  {
   "cell_type": "markdown",
   "metadata": {},
   "source": [
    "## An example of how `solvekdv` works on a basic problem"
   ]
  },
  {
   "cell_type": "markdown",
   "metadata": {},
   "source": [
    "Let's now go through an application of `solvekdv`, to see how all of the above is done in practice. Start with importing all of the required libaries:"
   ]
  },
  {
   "cell_type": "code",
   "execution_count": 1,
   "metadata": {},
   "outputs": [],
   "source": [
    "import numpy as np\n",
    "import matplotlib.pyplot as plt\n",
    "\n",
    "from solvekdv import kdv\n",
    "from solvekdv import vert"
   ]
  },
  {
   "cell_type": "markdown",
   "metadata": {},
   "source": [
    "Next, set-up and solve the vertical mode problem:"
   ]
  },
  {
   "cell_type": "code",
   "execution_count": 3,
   "metadata": {},
   "outputs": [
    {
     "name": "stdout",
     "output_type": "stream",
     "text": [
      "r10: -0.0166\n",
      "r01: 2920.6500\n",
      "c:   0.8427\n",
      "\n"
     ]
    }
   ],
   "source": [
    "# solve the vertical mode problem\n",
    "vertical = vert.VerticalMode(0.1, 0, 300, 1000)\n",
    "vertical.compute_density(\"lamb-yan-1\")\n",
    "vertical.find_vertical_mode()\n",
    "vertical.compute_r10()\n",
    "vertical.compute_r01()\n",
    "print(\n",
    "    f\"r10: {vertical.r10:.4f}\\n\"\n",
    "    + f\"r01: {vertical.r01:.4f}\\n\"\n",
    "    + f\"c:   {vertical.c:.4f}\\n\"\n",
    ")"
   ]
  },
  {
   "cell_type": "markdown",
   "metadata": {},
   "source": [
    "The density is computed from the equation (1.1) from [Lamb and Yan](add). This is all the parameters that we need for the KdV equation. Next, initialize the solving routine by:"
   ]
  },
  {
   "cell_type": "code",
   "execution_count": 4,
   "metadata": {},
   "outputs": [],
   "source": [
    "test = kdv.Kdv(\n",
    "    dt=10, dx=50, start_x=-150000, end_x=150000, start_t=0, end_t=24 * 60**2\n",
    ")\n",
    "\n",
    "test.set_initial_condition(\n",
    "    - 20 * (1/4) * ((1 + np.tanh((test.x_grid + 20000) / 2000))\n",
    "    * (1 - np.tanh(test.x_grid / 2000)))\n",
    ")\n",
    "\n",
    "test.set_kdv_parameters(\n",
    "    a=2 * vertical.r10 * vertical.c,\n",
    "    b=vertical.r01,\n",
    "    c=vertical.c\n",
    ")\n",
    "\n",
    "test.set_first_order_matrix()\n",
    "test.set_third_order_matrix()\n",
    "test.set_lhs_matrix()"
   ]
  },
  {
   "cell_type": "markdown",
   "metadata": {},
   "source": [
    "Let's go through this piece by piece:\n",
    "\n",
    "* First, we initialize a `kdv` class object, with stepsize 10 m in the $x$ direction and 50 seconds in time.\n",
    "* We set our domain to be from $-150$ km to $150$ km, and our overall time window to be $24$ hours.\n",
    "* We set our initial conditions to be a depression in the surface, with width 20 km.\n",
    "* We then set the parameters, and initialize all of the matrices.\n",
    "\n",
    "The initial condition looks like:"
   ]
  },
  {
   "cell_type": "code",
   "execution_count": 9,
   "metadata": {},
   "outputs": [
    {
     "data": {
      "text/plain": [
       "(-300, 5)"
      ]
     },
     "execution_count": 9,
     "metadata": {},
     "output_type": "execute_result"
    },
    {
     "data": {
      "image/png": "[encoded data removed]",
      "text/plain": [
       "<Figure size 432x288 with 1 Axes>"
      ]
     },
     "metadata": {
      "needs_background": "light"
     },
     "output_type": "display_data"
    }
   ],
   "source": [
    "plt.plot(test.x_grid, test.u0)\n",
    "plt.ylim((-300, 5))"
   ]
  },
  {
   "cell_type": "markdown",
   "metadata": {},
   "source": [
    "Now, let's run the solver. This is pretty easy. All you need to do is run a loop, and in each iteration you run a `solve_step` on the `Kdv` object. This handles everything."
   ]
  },
  {
   "cell_type": "code",
   "execution_count": 10,
   "metadata": {},
   "outputs": [
    {
     "name": "stdout",
     "output_type": "stream",
     "text": [
      "Simulation 0.0 % complete.\n",
      "Simulation 10.0 % complete.\n",
      "Simulation 20.0 % complete.\n",
      "Simulation 30.0 % complete.\n",
      "Simulation 40.0 % complete.\n",
      "Simulation 50.0 % complete.\n",
      "Simulation 60.0 % complete.\n",
      "Simulation 70.0 % complete.\n",
      "Simulation 80.0 % complete.\n",
      "Simulation 90.0 % complete.\n"
     ]
    }
   ],
   "source": [
    "u = np.zeros([test.n_x, test.n_t])\n",
    "for i in range(test.n_t):\n",
    "    if (i % int(0.1 * test.n_t)) == 0:\n",
    "        print(f\"Simulation {100 * i / test.n_t:.1f} % complete.\")\n",
    "    u[:, i] = test.solve_step()\n"
   ]
  },
  {
   "cell_type": "markdown",
   "metadata": {},
   "source": [
    "Now that we have our results, let's plot the final output. This gives us:"
   ]
  },
  {
   "cell_type": "code",
   "execution_count": 12,
   "metadata": {},
   "outputs": [
    {
     "data": {
      "image/png": "[encoded data removed]",
      "text/plain": [
       "<Figure size 432x288 with 2 Axes>"
      ]
     },
     "metadata": {
      "needs_background": "light"
     },
     "output_type": "display_data"
    }
   ],
   "source": [
    "# plot results\n",
    "xmesh, ymesh = np.meshgrid(test.x_grid, test.t_grid)\n",
    "plt.figure()\n",
    "plt.pcolormesh(xmesh, ymesh, u.T, cmap=\"viridis_r\")\n",
    "plt.colorbar()\n",
    "plt.xlabel(\"x\")\n",
    "plt.ylabel(\"t\")\n",
    "plt.title(\n",
    "    \"KdV, ($a$, $b$, $c$)=(%g, %g, %g)\" % (test.a, test.b, test.c)\n",
    ")\n",
    "plt.show()"
   ]
  },
  {
   "cell_type": "markdown",
   "metadata": {},
   "source": [
    "Finally, let's plot the KdV solution over a couple of time points, to get a feel for what the solutions are doing:"
   ]
  },
  {
   "cell_type": "code",
   "execution_count": 17,
   "metadata": {},
   "outputs": [
    {
     "data": {
      "text/plain": [
       "[<matplotlib.lines.Line2D at 0x7f29aa8f2ac8>]"
      ]
     },
     "execution_count": 17,
     "metadata": {},
     "output_type": "execute_result"
    },
    {
     "data": {
      "image/png": "[encoded data removed]",
      "text/plain": [
       "<Figure size 432x288 with 1 Axes>"
      ]
     },
     "metadata": {
      "needs_background": "light"
     },
     "output_type": "display_data"
    }
   ],
   "source": [
    "plt.plot(test.x_grid, u[:, 0])\n",
    "plt.plot(test.x_grid, u[:, 1_000])\n",
    "plt.plot(test.x_grid, u[:, 6_000])"
   ]
  }
 ],
 "metadata": {
  "kernelspec": {
   "display_name": "solvekdv",
   "language": "python",
   "name": "solvekdv"
  },
  "language_info": {
   "codemirror_mode": {
    "name": "ipython",
    "version": 3
   },
   "file_extension": ".py",
   "mimetype": "text/x-python",
   "name": "python",
   "nbconvert_exporter": "python",
   "pygments_lexer": "ipython3",
   "version": "3.7.3"
  }
 },
 "nbformat": 4,
 "nbformat_minor": 2
}
